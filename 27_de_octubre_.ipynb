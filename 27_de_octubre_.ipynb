{
  "nbformat": 4,
  "nbformat_minor": 0,
  "metadata": {
    "colab": {
      "provenance": [],
      "include_colab_link": true
    },
    "kernelspec": {
      "name": "python3",
      "display_name": "Python 3"
    },
    "language_info": {
      "name": "python"
    }
  },
  "cells": [
    {
      "cell_type": "markdown",
      "metadata": {
        "id": "view-in-github",
        "colab_type": "text"
      },
      "source": [
        "<a href=\"https://colab.research.google.com/github/valentinapadilla/grupo-5-progrmacion-/blob/main/27_de_octubre_.ipynb\" target=\"_parent\"><img src=\"https://colab.research.google.com/assets/colab-badge.svg\" alt=\"Open In Colab\"/></a>"
      ]
    },
    {
      "cell_type": "markdown",
      "source": [
        "TALLER GRUPAL \n",
        "INTEGRANTES: \n",
        "\n",
        "1.   YEIMY YULIZA OSORIO \n",
        "2.   JUAN DIEGO CASTRO OVALLE \n",
        "3.   VALENTINA PADILLA VARGAS "
      ],
      "metadata": {
        "id": "iHlfK8S0lEFo"
      }
    },
    {
      "cell_type": "markdown",
      "source": [
        "1. Escribir un programa que pregunte al usuario su nombre, edad, dirección y teléfono, guarde la información en un diccionario.\n",
        " Después debe mostrar por pantalla el mensaje:\n",
        "<nombre> tiene <edad> años, vive en <dirección> y su número de teléfono es <teléfono>.\n"
      ],
      "metadata": {
        "id": "2f_2yN63lcAI"
      }
    },
    {
      "cell_type": "code",
      "source": [
        "nombre = input('¿Cómo te llamas? ')\n",
        "edad = input('¿Cuántos años tienes? ')\n",
        "direccion = input('¿Cuál es tu dirección? ')\n",
        "telefono = input('¿Cuál es tu número de teléfono? ')\n",
        "persona = {'nombre': nombre, 'edad': edad, 'direccion': direccion, 'telefono': telefono}\n",
        "print(persona['nombre'], 'tiene', persona['edad'], 'años, vive en', persona['direccion'], 'y su número de teléfono es', persona['telefono'])"
      ],
      "metadata": {
        "colab": {
          "base_uri": "https://localhost:8080/"
        },
        "id": "_KRGznqUlhVd",
        "outputId": "0c7b89c0-2d4c-43f0-e543-ebb3ba3b77fa"
      },
      "execution_count": null,
      "outputs": [
        {
          "output_type": "stream",
          "name": "stdout",
          "text": [
            "¿Cómo te llamas? VALENTINA\n",
            "¿Cuántos años tienes? 19\n",
            "¿Cuál es tu dirección? CALLE 19#20-76\n",
            "¿Cuál es tu número de teléfono? 3224228013\n",
            "VALENTINA tiene 19 años, vive en CALLE 19#20-76 y su número de teléfono es 3224228013\n"
          ]
        }
      ]
    },
    {
      "cell_type": "markdown",
      "source": [
        "2.Escribir un programa que pregunte una fecha actual y de nacimiento ‘dd/mm/aaaa’ y muestre por pantalla la misma fecha en formato “dia/mes/aaaa” y sus días de vida son <####>\n",
        "no tenga en cuenta años bisiestos, \n"
      ],
      "metadata": {
        "id": "ABlAYQ-VlnlL"
      }
    },
    {
      "cell_type": "code",
      "source": [
        "fnd=int(input('Ingrese su dia de nacimiento: '))\n",
        "fnm=int(input('Ingrese su mes de nacimiento: '))\n",
        "fna=int(input('Ingrese su año de nacimientp: '))\n",
        "fad=int(input('Ingrese el dia actual: '))\n",
        "fam=int(input('Ingrese el mes actual: '))\n",
        "faa=int(input('Ingrese el año actual: '))\n",
        "meses={1:31,2:28,3:31,4:30,5:31,6:30,7:31,8:31,9:30,10:31,11:30,12:31}\n",
        "dtn=meses.get(fnm)-fnd\n",
        "for j in range(fnm,12):\n",
        "  j+=1\n",
        "  dtn+=meses.get(j)\n",
        "dt=(faa)-(fna+1)\n",
        "for i in range(1,fam):\n",
        "  fad=fad+meses.get(i)\n",
        "t=(dt*365)+fad+dtn\n",
        "print('Usted lleva ',t,' dias de vida')"
      ],
      "metadata": {
        "id": "VboYNLYLlrLj",
        "colab": {
          "base_uri": "https://localhost:8080/"
        },
        "outputId": "bffb26e9-52c6-4538-90af-607efa48b422"
      },
      "execution_count": 2,
      "outputs": [
        {
          "output_type": "stream",
          "name": "stdout",
          "text": [
            "Ingrese su dia de nacimiento: 10\n",
            "Ingrese su mes de nacimiento: 8\n",
            "Ingrese su año de nacimientp: 2000\n",
            "Ingrese el dia actual: 27\n",
            "Ingrese el mes actual: 10\n",
            "Ingrese el año actual: 2022\n",
            "Usted lleva  8108  dias de vida\n"
          ]
        }
      ]
    },
    {
      "cell_type": "markdown",
      "source": [
        "3.Escribir un programa que administre un dictado de dictados, {1:{},2:{},,,,,,,#:{}}.\n",
        "Debe preguntar a cada usuario, tres datos (los que definan), y a partir de estos crear un dictado por usuario.\n",
        "El dictado será de esta manera:\n",
        "La clave será un entero respectivo al orden en que el usuario ingresa los datos.\n",
        "El valor será un dictado con los tres datos del usuario elegidos.\n",
        "{‘dato1’:857,‘dato2’:True,‘dato3’:’dffd’}\n",
        "Ejemplo:\n",
        "{0:{‘dato1’:857,‘dato2’:True,‘dato3’:’dffd’},1:{‘dato1’:857,‘dato2’:True,‘dato3’:’dffd’},,,,,,,30:{}}\n",
        "Al final el programa imprimirá el primer(mínimo) usuario y el último(máximo) usuario con sus respectivos datos.\n"
      ],
      "metadata": {
        "id": "go99XMdNlzcr"
      }
    },
    {
      "cell_type": "code",
      "source": [
        "n = 1\n",
        "datos = {}\n",
        "\n",
        "while (n<=1):\n",
        "    nombre=input(\"Ingresar su nombre-->\")\n",
        "    nacionalidad=input(\"Ingresar su nacionalidad-->\")\n",
        "    universidad=input(\"Ingresar su universidad -->\")\n",
        "\n",
        "    lista_datos=datos.setdefault('nombre',[nombre])\n",
        "    lista_datos=datos.setdefault('nacionalidad',[nacionalidad])\n",
        "    lista_datos=datos.setdefault('universidad',[universidad])\n",
        "\n",
        "    if (n>1):\n",
        "        datos['nombre'].append(nombre)\n",
        "        datos['nacionalidad'].append(nacionalidad)\n",
        "        datos['universidad'].append(universidad)\n",
        "\n",
        "    n+=1\n",
        "    print('------------------------------------')\n",
        "\n",
        "print(datos)"
      ],
      "metadata": {
        "id": "f33gsdcql3fd",
        "colab": {
          "base_uri": "https://localhost:8080/"
        },
        "outputId": "5d39222b-31a0-4db7-fac4-8ab523cda246"
      },
      "execution_count": 1,
      "outputs": [
        {
          "output_type": "stream",
          "name": "stdout",
          "text": [
            "Ingresar su nombre-->yuli\n",
            "Ingresar su nacionalidad-->colombia\n",
            "Ingresar su universidad -->universidad nacional de colombia \n",
            "------------------------------------\n",
            "{'nombre': ['yuli'], 'nacionalidad': ['colombia'], 'universidad': ['universidad nacional de colombia ']}\n"
          ]
        }
      ]
    }
  ]
}